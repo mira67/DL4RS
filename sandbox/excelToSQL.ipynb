{
 "cells": [
  {
   "cell_type": "code",
   "execution_count": 1,
   "metadata": {
    "collapsed": false
   },
   "outputs": [
    {
     "name": "stdout",
     "output_type": "stream",
     "text": [
      "/home/mirabot/googledrive/deeplearning/seaiceprj/mpfdata/test/arr_cafram.csv\n",
      "complete file /home/mirabot/googledrive/deeplearning/seaiceprj/mpfdata/test/arr_cafram.csv\n",
      "---total time: 73.8325519562 seconds ---\n"
     ]
    }
   ],
   "source": [
    "\"\"\"\n",
    "Transfer All NSIDC Ground Truth with MODIS Matched Data to MySQL\n",
    "With year/day/day_label extended for indexing\n",
    "Author: Qi Liu\n",
    "Date: Oct.09th, 2016\n",
    "\"\"\"\n",
    "\n",
    "import pandas as pd\n",
    "from pandas.tools.plotting import scatter_matrix\n",
    "import numpy as np\n",
    "import glob\n",
    "import os\n",
    "from pandas.io import sql\n",
    "import MySQLdb\n",
    "import time\n",
    "\n",
    "start_time = time.time()\n",
    "\n",
    "dpath = '/home/mirabot/googledrive/deeplearning/seaiceprj/mpfdata/test/'#'/home/mirabot/googledrive/IceData_DL/initialtest/data/'\n",
    "rpath = '/home/mirabot/googledrive/deeplearning/seaiceprj/mpfdata/results/'#'/home/mirabot/googledrive/IceData_DL/initialtest/data/'\n",
    "\n",
    "# dpath = '/home/mirabot/googledrive/IceData_DL/initialtest/aug_raw/'\n",
    "# rpath = '/home/mirabot/googledrive/IceData_DL/initialtest/aug_raw/'\n",
    "\n",
    "mode = 2\n",
    "\n",
    "flist = glob.glob(dpath+'*.csv')\n",
    "#rlist = glob.glob(rpath+'*.csv')\n",
    "\n",
    "#mysql connection, install sudo apt-get install python2.7-mysqldb\n",
    "con = MySQLdb.connect(host=\"localhost\",port=3306,user=\"mira67\",passwd=\"1234\",db=\"nsidcgt\")\n",
    "if mode == 0:#record NSIDC ground truth data\n",
    "    print \"Write NSIDC GT\"\n",
    "    for tf in flist:\n",
    "        df = pd.read_csv(tf, sep=\",\", skiprows=1, names = [\"FID\",\"Id\",\"b1\",\"b2\",\"b3\",\"b4\",\"b5\",\"b6\",\"b7\",\"b8\",\"Rowid\",\"MP_F\",\"I_F\",\"W_F\",])\n",
    "        nsplit = os.path.basename(tf).split('_')\n",
    "        df_len = len(df['FID'])\n",
    "        site_name = np.chararray((df_len), itemsize=6)\n",
    "        site_name[:] = nsplit[0]\n",
    "        year = np.zeros(df_len)\n",
    "        year[:] = int(nsplit[1][1:5])\n",
    "        day = np.zeros(df_len)\n",
    "        day[:] = int(nsplit[1][5:8])\n",
    "        day_label = np.chararray(df_len, itemsize=1)\n",
    "        if len(nsplit[1]) == 9:\n",
    "            day_label[:] = nsplit[1][8]\n",
    "        else:\n",
    "            day_label[:] = 'N'\n",
    "        df['site'] = pd.Series(site_name, index=df.index)\n",
    "        df['year'] = pd.Series(year, index=df.index)\n",
    "        df['day'] = pd.Series(day, index=df.index)\n",
    "        df['day_label'] = pd.Series(day_label, index=df.index)\n",
    "        print site_name[0]\n",
    "        #record data to database\n",
    "        #print df.head()\n",
    "        #scale\n",
    "        df = df.replace(-9999, -99990000)\n",
    "        df['b1'] = df['b1']*0.0001\n",
    "        df['b2'] = df['b2']*0.0001\n",
    "        df['b3'] = df['b3']*0.0001\n",
    "        df['b4'] = df['b4']*0.0001\n",
    "        df['b5'] = df['b5']*0.0001\n",
    "        df['b6'] = df['b6']*0.0001\n",
    "        df['b7'] = df['b7']*0.0001\n",
    "                \n",
    "        df.to_sql(con=con, name=site_name[0], if_exists='append', flavor='mysql',index=False)\n",
    "\n",
    "elif mode == 1:#record MODIS data\n",
    "    print \"Write MOD09\"\n",
    "    for tf in flist:\n",
    "        print tf\n",
    "        df = pd.read_csv(tf, sep=\",\", skiprows=1, names = [\"year\",\"month\",\"day\",\"nrow\",\"ncol\",\"qc\",\"cloud\",\"b1\",\"b2\",\"b3\",\"b4\",\"b5\",\"b6\",\"b7\"])\n",
    "        df.to_sql(con=con, name='mod500', if_exists='append', flavor='mysql')\n",
    "\n",
    "elif mode == 2:#not use pandas\n",
    "    sql1 = \"\"\"\n",
    "    CREATE TABLE {} (\n",
    "     `year` INT NULL,\n",
    "     `month` INT NULL,\n",
    "     `day` INT NULL,\n",
    "     `nrow` INT NULL,\n",
    "     `ncol` INT NULL,\n",
    "     `qc` INT NULL,\n",
    "     `cloud` INT NULL,\n",
    "     `b1` DOUBLE NULL,\n",
    "     `b2` DOUBLE NULL,\n",
    "     `b3` DOUBLE NULL,\n",
    "     `b4` DOUBLE NULL,\n",
    "     `b5` DOUBLE NULL,\n",
    "     `b6` DOUBLE NULL,\n",
    "     `b7` DOUBLE NULL);\"\"\"\n",
    "    \n",
    "    sql2 = \"\"\"\n",
    "    LOAD DATA LOCAL INFILE '{}' \n",
    "    INTO TABLE {} \n",
    "    FIELDS TERMINATED BY ','\n",
    "    OPTIONALLY ENCLOSED BY '\"'\n",
    "    LINES TERMINATED BY '\\\\n'\n",
    "    IGNORE 1 LINES;\"\"\"\n",
    "    \n",
    "    for tf in flist:\n",
    "        print tf\n",
    "        fn = os.path.basename(tf)\n",
    "        try:\n",
    "             cursor = con.cursor()\n",
    "             cursor.execute(sql1.format(fn[:-4]))\n",
    "             con.commit()\n",
    "                \n",
    "             cursor.execute(sql2.format(tf,fn[:-4]))\n",
    "             con.commit()\n",
    "        except Exception,e:\n",
    "             print str(e)\n",
    "             # Rollback in case there is any error\n",
    "             con.rollback()\n",
    "        print 'complete file %s' % (tf)\n",
    "        \n",
    "elif mode == 3:#write results to database\n",
    "    sql = \"\"\"    \n",
    "    LOAD DATA LOCAL INFILE '{}' \n",
    "    INTO TABLE {}\n",
    "    FIELDS TERMINATED BY ','\n",
    "    OPTIONALLY ENCLOSED BY '\"'\n",
    "    LINES TERMINATED BY '\\\\n'\n",
    "    IGNORE 1 LINES;\"\"\"\n",
    "    \n",
    "    for tf in rlist:\n",
    "        print tf\n",
    "        try:\n",
    "             cursor = con.cursor()\n",
    "             print sql.format(tf)\n",
    "             cursor.execute(sql.format(tf))\n",
    "             #con.commit()\n",
    "        except Exception,e:\n",
    "             print str(e)\n",
    "             #Rollback in case there is any error\n",
    "             con.rollback()\n",
    "        print 'complete file %s' % (tf)\n",
    "\n",
    "# disconnect from server\n",
    "con.close()\n",
    "os.system('espeak \"Congratulations, done with database\"')\n",
    "print(\"---total time: %s seconds ---\" % (time.time() - start_time))"
   ]
  },
  {
   "cell_type": "code",
   "execution_count": 2,
   "metadata": {
    "collapsed": false
   },
   "outputs": [
    {
     "data": {
      "text/plain": [
       "1"
      ]
     },
     "execution_count": 2,
     "metadata": {},
     "output_type": "execute_result"
    }
   ],
   "source": []
  },
  {
   "cell_type": "code",
   "execution_count": null,
   "metadata": {
    "collapsed": false
   },
   "outputs": [],
   "source": []
  },
  {
   "cell_type": "code",
   "execution_count": null,
   "metadata": {
    "collapsed": true
   },
   "outputs": [],
   "source": []
  }
 ],
 "metadata": {
  "kernelspec": {
   "display_name": "Python 2",
   "language": "python",
   "name": "python2"
  },
  "language_info": {
   "codemirror_mode": {
    "name": "ipython",
    "version": 2
   },
   "file_extension": ".py",
   "mimetype": "text/x-python",
   "name": "python",
   "nbconvert_exporter": "python",
   "pygments_lexer": "ipython2",
   "version": "2.7.12"
  }
 },
 "nbformat": 4,
 "nbformat_minor": 1
}
