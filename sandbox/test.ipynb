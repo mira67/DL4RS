{
 "cells": [
  {
   "cell_type": "code",
   "execution_count": 14,
   "metadata": {
    "collapsed": false
   },
   "outputs": [
    {
     "data": {
      "image/png": "[encoded data removed]",
      "text/plain": [
       "<matplotlib.figure.Figure at 0x7f005791c4d0>"
      ]
     },
     "metadata": {},
     "output_type": "display_data"
    }
   ],
   "source": [
    "import os\n",
    "import MySQLdb\n",
    "import numpy as np\n",
    "import pandas as pd\n",
    "import matplotlib.pyplot as plt\n",
    "from keras.models import load_model\n",
    "from IPython.display import SVG\n",
    "from keras.utils.visualize_util import model_to_dot\n",
    "from pandas.tools.plotting import scatter_matrix\n",
    "%matplotlib inline\n",
    "\n",
    "con = MySQLdb.connect(host=\"localhost\",port=3306,user=\"mira67\",passwd=\"1234\",db=\"nsidcgt\")\n",
    "sql = \"\"\"SELECT b1,b2,b3,b4,b5,b6,b7,MP_F, I_F,W_F FROM Beaufo\n",
    "        WHERE MP_F <= 0.5 AND day != 238 AND day != 244 AND day != 246 AND day > 212\n",
    "        UNION\n",
    "        SELECT b1,b2,b3,b4,b5,b6,b7,MP_F, I_F,W_F FROM Esiber\n",
    "        WHERE MP_F <= 0.5 AND day != 195 AND day > 212\n",
    "        UNION\n",
    "        SELECT b1,b2,b3,b4,b5,b6,b7,MP_F, I_F,W_F FROM Cacana\n",
    "        WHERE MP_F <= 0.5 AND day != 181 AND day != 192 AND day > 212\n",
    "        UNION\n",
    "        SELECT b1,b2,b3,b4,b5,b6,b7,MP_F, I_F,W_F FROM Cafram\n",
    "        WHERE MP_F <= 0.5 AND day != 179 AND day > 212;\n",
    "\"\"\"\n",
    "\n",
    "df = pd.read_sql(sql, con)\n",
    "table2 = table2.replace(9.99, np.nan)\n",
    "#print df.head()\n",
    "plt.figure\n",
    "df['I_F'].plot.hist()\n",
    "con.close()"
   ]
  },
  {
   "cell_type": "code",
   "execution_count": 15,
   "metadata": {
    "collapsed": false
   },
   "outputs": [
    {
     "data": {
      "image/png": "[encoded data removed]",
      "text/plain": [
       "<matplotlib.figure.Figure at 0x7f00578979d0>"
      ]
     },
     "metadata": {},
     "output_type": "display_data"
    }
   ],
   "source": [
    "con = MySQLdb.connect(host=\"localhost\",port=3306,user=\"mira67\",passwd=\"1234\",db=\"nsidcgt\")\n",
    "sql = \"\"\"SELECT * FROM nsidcgt.arr_canadian where month = 5;\n",
    "\"\"\"\n",
    "\n",
    "df = pd.read_sql(sql, con)\n",
    "print df.head()\n",
    "plt.figure\n",
    "df['b1'].plot.hist()\n",
    "con.close()"
   ]
  },
  {
   "cell_type": "code",
   "execution_count": 16,
   "metadata": {
    "collapsed": false
   },
   "outputs": [
    {
     "name": "stdout",
     "output_type": "stream",
     "text": [
      "   pid  year  month  day  nrow  ncol  qc  cloud      b1      b2      b3  \\\n",
      "0    1  2000      5    1     0     0   0      1  0.9089  0.8437  0.9368   \n",
      "1    2  2000      5    1     0     1   0      1  0.7904  0.7102  0.8594   \n",
      "2    3  2000      5    1     0     2   0      1  0.9007  0.8360  0.9288   \n",
      "3    4  2000      5    1     0     3   0      1  0.7985  0.7211  0.8611   \n",
      "4    5  2000      5    1     0     4   0      1  0.7764  0.6944  0.8524   \n",
      "\n",
      "       b4      b5      b6      b7  \n",
      "0  0.9416  0.5615  0.2608  0.1500  \n",
      "1  0.8392  0.4340  0.1890  0.1495  \n",
      "2  0.9347  0.5625  0.2754  0.1663  \n",
      "3  0.8431  0.4395  0.1870  0.1495  \n",
      "4  0.8251  0.4211  0.1855  0.1495  \n"
     ]
    }
   ],
   "source": [
    "print df.head()"
   ]
  },
  {
   "cell_type": "code",
   "execution_count": 47,
   "metadata": {
    "collapsed": false
   },
   "outputs": [
    {
     "data": {
      "text/plain": [
       "[<matplotlib.lines.Line2D at 0x7f0056b817d0>]"
      ]
     },
     "execution_count": 47,
     "metadata": {},
     "output_type": "execute_result"
    },
    {
     "data": {
      "image/png": "[encoded data removed]",
      "text/plain": [
       "<matplotlib.figure.Figure at 0x7f0056c32810>"
      ]
     },
     "metadata": {},
     "output_type": "display_data"
    }
   ],
   "source": [
    "day  =np.linspace(121,274)\n",
    "n = \n",
    "plt.plot(np.power(day, n)/np.power(274,n))"
   ]
  },
  {
   "cell_type": "code",
   "execution_count": null,
   "metadata": {
    "collapsed": true
   },
   "outputs": [],
   "source": []
  }
 ],
 "metadata": {
  "kernelspec": {
   "display_name": "Python 2",
   "language": "python",
   "name": "python2"
  },
  "language_info": {
   "codemirror_mode": {
    "name": "ipython",
    "version": 2
   },
   "file_extension": ".py",
   "mimetype": "text/x-python",
   "name": "python",
   "nbconvert_exporter": "python",
   "pygments_lexer": "ipython2",
   "version": "2.7.12"
  }
 },
 "nbformat": 4,
 "nbformat_minor": 1
}
