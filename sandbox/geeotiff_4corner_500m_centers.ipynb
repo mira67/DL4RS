{
 "cells": [
  {
   "cell_type": "code",
   "execution_count": null,
   "metadata": {
    "collapsed": false
   },
   "outputs": [],
   "source": []
  },
  {
   "cell_type": "code",
   "execution_count": 12,
   "metadata": {
    "collapsed": false
   },
   "outputs": [
    {
     "name": "stdout",
     "output_type": "stream",
     "text": [
      "esiber_2000jul13b_3c.tif\n",
      "9118643.32862 9108643.32862 459676.30482 449676.30482\n",
      "cafram_2000jun27a_3c.tif\n",
      "9452138.97877 9442138.97877 477725.352962 467725.352962\n",
      "cacana_2000jun28a_3c.tif\n",
      "9433739.98 9423739.98 482111.991 472111.991\n",
      "esiber_2000jul04a_3c.tif\n",
      "9101657.91437 9091657.91437 556443.660683 546443.660683\n",
      "cacana_2000jun22a_3c.tif\n",
      "9438368.55 9428368.55 485707.795 475707.795\n",
      "beaufo_2000jul21b_3c.tif\n",
      "8102758.36 8092758.36 408947.665 398947.665\n",
      "cacana_2000jun25a_3c.tif\n",
      "9443817.24 9433817.24 474044.095 464044.095\n",
      "esiber_2000aug13a_3c.tif\n",
      "9116330.17063 9106330.17063 550655.930618 540655.930618\n",
      "cacana_2000aug15a_3c.tif\n",
      "9437509.71 9427509.71 487318.108 477318.108\n",
      "cacana_2000jul27a_3c.tif\n",
      "9444840.92805 9434840.92805 533603.326272 523603.326272\n",
      "beaufo_2000sep02a_3c.tif\n",
      "8096791.82 8086791.82 595437.267 585437.267\n",
      "beaufo_2000jul14a_3c.tif\n",
      "8109702.47 8099702.47 416589.085 406589.085\n",
      "esiber_2000jul28a_3c.tif\n",
      "9114276.14431 9104276.14431 466860.375662 456860.375662\n",
      "beaufo_2000aug25c_3c.tif\n",
      "8099716.48 8089716.48 400491.902 390491.902\n",
      "cacana_2000jul05a_3c.tif\n",
      "9452388.05 9442388.05 478699.183 468699.183\n",
      "cacana_2000jul10a_3c.tif\n",
      "9446296.61 9436296.61 526004.57 516004.57\n",
      "esiber_2000aug27a_3c.tif\n",
      "9117759.03753 9107759.03753 460613.704331 450613.704331\n",
      "cacana_2000jun29b_3c.tif\n",
      "9452618.03 9442618.03 473542.787 463542.787\n",
      "beaufo_2000aug31a_3c.tif\n",
      "8116920.86 8106920.86 598786.588 588786.588\n",
      "esiber_2000jul13a_3c.tif\n",
      "9116180.36178 9106180.36178 468316.47222 458316.47222\n",
      "cacana_2000jun29a_3c.tif\n",
      "9438169.07 9428169.07 484292.342 474292.342\n",
      "cacana_2000jul05b_3c.tif\n",
      "9443113.38 9433113.38 479236.015 469236.015\n",
      "beaufo_2000aug31b_3c.tif\n",
      "8116920.86 8106920.86 598786.588 588786.588\n",
      "cafram_2000aug08a_3c.tif\n",
      "9456202.11538 9446202.11538 544126.920239 534126.920239\n",
      "cacana_2000jun28b_3c.tif\n",
      "9435658.79 9425658.79 470490.052 460490.052\n",
      "beaufo_2000sep02b_3c.tif\n",
      "8096791.82 8086791.82 595437.267 585437.267\n"
     ]
    }
   ],
   "source": [
    "import numpy as np\n",
    "from osgeo import gdal,ogr,osr\n",
    "import matplotlib.pyplot as plt\n",
    "import os, sys\n",
    "\n",
    "%matplotlib inline\n",
    "plt.rcParams['figure.figsize'] = (10,10) # Make the figures a bit bigger\n",
    "\n",
    "def GetExtent(gt,cols,rows):\n",
    "    ''' Return list of corner coordinates from a geotransform\n",
    "\n",
    "        @type gt:   C{tuple/list}\n",
    "        @param gt: geotransform\n",
    "        @type cols:   C{int}\n",
    "        @param cols: number of columns in the dataset\n",
    "        @type rows:   C{int}\n",
    "        @param rows: number of rows in the dataset\n",
    "        @rtype:    C{[float,...,float]}\n",
    "        @return:   coordinates of each corner\n",
    "    '''\n",
    "    ext=[]\n",
    "    xarr=[0,cols]\n",
    "    yarr=[0,rows]\n",
    "\n",
    "    for px in xarr:\n",
    "        for py in yarr:\n",
    "            x=gt[0]+(px*gt[1])+(py*gt[2])\n",
    "            y=gt[3]+(px*gt[4])+(py*gt[5])\n",
    "            ext.append([x,y])\n",
    "            #print x,y\n",
    "        yarr.reverse()\n",
    "    return ext\n",
    "\n",
    "def ReprojectCoords(coords,src_srs,tgt_srs):\n",
    "    ''' Reproject a list of x,y coordinates.\n",
    "\n",
    "        @type geom:     C{tuple/list}\n",
    "        @param geom:    List of [[x,y],...[x,y]] coordinates\n",
    "        @type src_srs:  C{osr.SpatialReference}\n",
    "        @param src_srs: OSR SpatialReference object\n",
    "        @type tgt_srs:  C{osr.SpatialReference}\n",
    "        @param tgt_srs: OSR SpatialReference object\n",
    "        @rtype:         C{tuple/list}\n",
    "        @return:        List of transformed [[x,y],...[x,y]] coordinates\n",
    "    '''\n",
    "    trans_coords=[]\n",
    "    transform = osr.CoordinateTransformation( src_srs, tgt_srs)\n",
    "    for x,y in coords:\n",
    "        x,y,z = transform.TransformPoint(x,y)\n",
    "        trans_coords.append([x,y])\n",
    "    return trans_coords\n",
    "\n",
    "dpath = r'/home/mirabot/googledrive/deeplearning/seaiceprj/G02159GeoTiffs_3c/'\n",
    "cpath = r'/home/mirabot/googledrive/deeplearning/seaiceprj/G02159GeoTiffs_3c_centroids500m/'\n",
    "gt_list = os.listdir(dpath)\n",
    "\n",
    "for raster in gt_list:\n",
    "    ds=gdal.Open(dpath+raster)\n",
    "    print raster\n",
    "    gt=ds.GetGeoTransform()\n",
    "    cols = ds.RasterXSize\n",
    "    rows = ds.RasterYSize\n",
    "    ext=GetExtent(gt,cols,rows)\n",
    "\n",
    "    src_srs=osr.SpatialReference()\n",
    "    src_srs.ImportFromWkt(ds.GetProjection())\n",
    "    #tgt_srs=osr.SpatialReference()\n",
    "    #tgt_srs.ImportFromEPSG(4326)\n",
    "    tgt_srs = src_srs.CloneGeogCS()\n",
    "\n",
    "    geo_ext=ReprojectCoords(ext,src_srs,tgt_srs)\n",
    "\n",
    "    img = np.array(ds.GetRasterBand(1).ReadAsArray())\n",
    "    #imgplot = plt.imshow(img)\n",
    "    ds = None\n",
    "\n",
    "    ymax = ext[0][1]\n",
    "    ymin = ext[1][1]\n",
    "    xmax = ext[2][0]\n",
    "    xmin = ext[0][0]\n",
    "    print ymax,ymin,xmax,xmin\n",
    "\n",
    "    rg = 10000\n",
    "    cell_size = 500\n",
    "    cell_num = rg/cell_size\n",
    "    cell_centroids = np.zeros((cell_num,cell_num,2))\n",
    "\n",
    "    out = open(cpath+raster[:-4]+'_500m_centroids.csv', 'w')\n",
    "\n",
    "    for row in range(0, cell_num):\n",
    "        for col in range(0, cell_num):\n",
    "            cell_centroids[row,col,1] = ymax - (2*(row+1)-1)*cell_size/2\n",
    "            cell_centroids[row,col,0] = xmin + (2*(col+1)-1)*cell_size/2\n",
    "\n",
    "            out.write('%d,%d,%f,%f' % (row,col,cell_centroids[row,col,0],cell_centroids[row,col,1]))\n",
    "            out.write('\\n')\n",
    "    out.close()\n"
   ]
  },
  {
   "cell_type": "code",
   "execution_count": null,
   "metadata": {
    "collapsed": false
   },
   "outputs": [],
   "source": []
  },
  {
   "cell_type": "code",
   "execution_count": null,
   "metadata": {
    "collapsed": false
   },
   "outputs": [],
   "source": []
  },
  {
   "cell_type": "code",
   "execution_count": null,
   "metadata": {
    "collapsed": false
   },
   "outputs": [],
   "source": []
  },
  {
   "cell_type": "code",
   "execution_count": null,
   "metadata": {
    "collapsed": false
   },
   "outputs": [],
   "source": []
  },
  {
   "cell_type": "code",
   "execution_count": null,
   "metadata": {
    "collapsed": false
   },
   "outputs": [],
   "source": []
  },
  {
   "cell_type": "code",
   "execution_count": null,
   "metadata": {
    "collapsed": true
   },
   "outputs": [],
   "source": []
  }
 ],
 "metadata": {
  "kernelspec": {
   "display_name": "Python 2",
   "language": "python",
   "name": "python2"
  },
  "language_info": {
   "codemirror_mode": {
    "name": "ipython",
    "version": 2
   },
   "file_extension": ".py",
   "mimetype": "text/x-python",
   "name": "python",
   "nbconvert_exporter": "python",
   "pygments_lexer": "ipython2",
   "version": "2.7.12"
  }
 },
 "nbformat": 4,
 "nbformat_minor": 1
}
