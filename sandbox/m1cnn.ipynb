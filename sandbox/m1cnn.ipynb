{
 "cells": [
  {
   "cell_type": "code",
   "execution_count": 24,
   "metadata": {
    "collapsed": false
   },
   "outputs": [
    {
     "name": "stdout",
     "output_type": "stream",
     "text": [
      "(30, 512, 512)\n",
      "(512, 512)\n"
     ]
    },
    {
     "data": {
      "image/png": "[encoded data removed]",
      "text/plain": [
       "<matplotlib.figure.Figure at 0x7f44f6925fd0>"
      ]
     },
     "metadata": {},
     "output_type": "display_data"
    }
   ],
   "source": [
    "#train 1-m resolution data, toy test with membrane data\n",
    "#qi liu\n",
    "#Nov.7.2016\n",
    "\n",
    "import os\n",
    "import numpy as np\n",
    "import pandas as pd\n",
    "import tifffile as tf\n",
    "import matplotlib.pyplot as plt\n",
    "from keras.layers.normalization import BatchNormalization\n",
    "from keras.models import Sequential\n",
    "from keras.layers import Dense, Dropout, Activation, Flatten, Convolution2D, MaxPooling2D, TimeDistributedDense\n",
    "\n",
    "%matplotlib inline\n",
    "#https://github.com/fchollet/keras/blob/master/examples/cifar10_cnn.py\n",
    "\n",
    "def m1cnn(train_x,train_y,test_x,text_y,inshape,nb_classes):\n",
    "    model = Sequential()\n",
    "\n",
    "    model.add(Convolution2D(48,4,4, border_mode='same',\n",
    "                            input_shape = inshape))\n",
    "    model.add(Activation('relu'))\n",
    "    model.add(MaxPooling2D(pool_size=(2, 2)))\n",
    "    \n",
    "    model.add(Convolution2D(48,5,5))\n",
    "    model.add(Activation('relu'))\n",
    "    model.add(MaxPooling2D(pool_size=(2, 2)))\n",
    "              \n",
    "    model.add(Convolution2D(48,4,4))\n",
    "    model.add(Activation('relu'))\n",
    "    model.add(MaxPooling2D(pool_size=(2, 2)))\n",
    "     \n",
    "    model.add(Convolution2D(48,4,4))\n",
    "    model.add(Activation('relu'))\n",
    "    model.add(MaxPooling2D(pool_size=(2, 2)))              \n",
    "\n",
    "    model.add(Flatten())\n",
    "    model.add(Dense(200))\n",
    "    model.add(Activation('relu'))\n",
    "    model.add(Dense(nb_classes))\n",
    "    model.add(Activation('softmax'))\n",
    "    \n",
    "#get train/validation/test data\n",
    "imgpath = '/home/mirabot/Documents/datago/membrane/'\n",
    "test = 'test-volume.tif'\n",
    "train = 'train-volume.tif'\n",
    "train_labels = 'train-labels.tif'\n",
    "              \n",
    "#read in tiff files\n",
    "test = tf.imread(imgpath+test)\n",
    "train = tf.imread(imgpath+train)\n",
    "\n",
    "train_labels = tf.imread(imgpath+train_labels)\n",
    "#rim.show(rim)\n",
    "train = np.array(train)\n",
    "train_labels = np.array(train_labels)\n",
    "print train.shape\n",
    "print train_labels[1,:,:].shape\n",
    "imgplot = plt.imshow(train_labels[10,:,:])\n",
    "\n",
    "#\n"
   ]
  },
  {
   "cell_type": "code",
   "execution_count": 25,
   "metadata": {
    "collapsed": false
   },
   "outputs": [],
   "source": [
    "import os, sys\n",
    "old_path = os.getcwd()\n",
    "caffe_root = \"/home/mirabot/Downloads/caffe-master\"\n",
    "os.chdir(caffe_root + \"/python\")\n",
    "import caffe\n",
    "os.chdir(old_path)\n",
    "\n"
   ]
  },
  {
   "cell_type": "code",
   "execution_count": null,
   "metadata": {
    "collapsed": true
   },
   "outputs": [],
   "source": []
  }
 ],
 "metadata": {
  "kernelspec": {
   "display_name": "Python 2",
   "language": "python",
   "name": "python2"
  },
  "language_info": {
   "codemirror_mode": {
    "name": "ipython",
    "version": 2
   },
   "file_extension": ".py",
   "mimetype": "text/x-python",
   "name": "python",
   "nbconvert_exporter": "python",
   "pygments_lexer": "ipython2",
   "version": "2.7.12"
  }
 },
 "nbformat": 4,
 "nbformat_minor": 1
}
