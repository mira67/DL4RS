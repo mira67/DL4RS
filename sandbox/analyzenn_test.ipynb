{
 "cells": [
  {
   "cell_type": "code",
   "execution_count": 203,
   "metadata": {
    "collapsed": false
   },
   "outputs": [],
   "source": [
    "import os\n",
    "import numpy as np\n",
    "from keras.models import load_model\n",
    "mpath = \"/home/mirabot/googledrive/deeplearning/seaiceprj/mpfdata/model/\"\n",
    "mname = \"igarss1109.h5\"\n",
    "model = load_model(mpath+mname)"
   ]
  },
  {
   "cell_type": "code",
   "execution_count": 204,
   "metadata": {
    "collapsed": false
   },
   "outputs": [
    {
     "data": {
      "text/plain": [
       "<matplotlib.colorbar.Colorbar at 0x7fa2a7effd50>"
      ]
     },
     "execution_count": 204,
     "metadata": {},
     "output_type": "execute_result"
    },
    {
     "data": {
      "image/png": "[encoded data removed]",
      "text/plain": [
       "<matplotlib.figure.Figure at 0x7fa2a6b4ec10>"
      ]
     },
     "metadata": {},
     "output_type": "display_data"
    }
   ],
   "source": [
    "import matplotlib.pyplot as plt\n",
    "%matplotlib inline\n",
    "w = model.layers[0].get_weights()[0]\n",
    "w = w/np.amax(abs(w))\n",
    "w_min, w_max = -np.abs(w).max(), np.abs(w).max()\n",
    "plt.pcolor(w,cmap='RdBu',vmin=w_min, vmax=w_max)\n",
    "plt.colorbar()"
   ]
  },
  {
   "cell_type": "code",
   "execution_count": 205,
   "metadata": {
    "collapsed": false
   },
   "outputs": [
    {
     "name": "stdout",
     "output_type": "stream",
     "text": [
      "[[ 0.09478275  0.09512284  0.32784626]\n",
      " [ 0.12869233  0.10493501  0.1751321 ]\n",
      " [ 0.11224081  0.12084455  0.53318149]\n",
      " [ 0.05981756  0.06486326  0.2810165 ]\n",
      " [ 0.12277912  0.11048871  0.33180121]\n",
      " [ 0.02732975  0.02959904  0.12726329]\n",
      " [ 0.00745787  0.00683196  0.01749236]]\n",
      "[ 0.51775181  0.40875942  0.76626682  0.40569732  0.56506902  0.18419208\n",
      "  0.03178218]\n",
      "17.9804980755\n",
      "14.195407927\n",
      "26.6109347343\n",
      "14.0890672803\n",
      "19.6237310767\n",
      "6.39662742615\n",
      "1.10373245552\n"
     ]
    }
   ],
   "source": [
    "\"\"\"calculate input relative importance\"\"\"\n",
    "w1 = model.layers[0].get_weights()[0]\n",
    "w2 = model.layers[2].get_weights()[0]\n",
    "#w3 = model.layers[4].get_weights()[0]\n",
    "mvp = abs(w1).dot(abs(w2))#.dot(abs(w3))\n",
    "print(mvp)\n",
    "mvpr = mvp.sum(axis=1)\n",
    "print(mvpr)\n",
    "\n",
    "for r in mvpr:\n",
    "    print(r/mvpr.sum()*100)"
   ]
  },
  {
   "cell_type": "code",
   "execution_count": 181,
   "metadata": {
    "collapsed": false
   },
   "outputs": [
    {
     "data": {
      "text/plain": [
       "array([ 9.10770416,  6.34933996,  4.97707844], dtype=float32)"
      ]
     },
     "execution_count": 181,
     "metadata": {},
     "output_type": "execute_result"
    }
   ],
   "source": [
    "mvp[0]"
   ]
  },
  {
   "cell_type": "code",
   "execution_count": 116,
   "metadata": {
    "collapsed": false
   },
   "outputs": [
    {
     "name": "stdout",
     "output_type": "stream",
     "text": [
      "/home/mirabot/googledrive/deeplearning/seaiceprj/mpfdata/model/weights.h5 contains: \n",
      "Root attributes:\n",
      "  layer_names: ['dense_13' 'activation_9' 'dense_14' 'activation_10' 'dense_15']\n",
      "  activation_10\n",
      "    Attributes:\n",
      "      weight_names: []\n",
      "    Dataset:\n",
      "  activation_9\n",
      "    Attributes:\n",
      "      weight_names: []\n",
      "    Dataset:\n",
      "  dense_13\n",
      "    Attributes:\n",
      "      weight_names: ['dense_13_W' 'dense_13_b']\n",
      "    Dataset:\n",
      "      dense_13_W: (7, 3)\n",
      "      dense_13_b: (3,)\n",
      "  dense_14\n",
      "    Attributes:\n",
      "      weight_names: ['dense_14_W' 'dense_14_b']\n",
      "    Dataset:\n",
      "      dense_14_W: (3, 6)\n",
      "      dense_14_b: (6,)\n",
      "  dense_15\n",
      "    Attributes:\n",
      "      weight_names: ['dense_15_W' 'dense_15_b']\n",
      "    Dataset:\n",
      "      dense_15_W: (6, 3)\n",
      "      dense_15_b: (3,)\n"
     ]
    }
   ],
   "source": [
    "\"\"\"Analyze weights\n",
    "Qi Liu\n",
    "\"\"\"\n",
    "\n",
    "from __future__ import print_function\n",
    "\n",
    "import h5py\n",
    "\n",
    "def print_structure(weight_file_path):\n",
    "    \"\"\"\n",
    "    Prints out the structure of HDF5 file.\n",
    "\n",
    "    Args:\n",
    "      weight_file_path (str) : Path to the file to analyze\n",
    "    \"\"\"\n",
    "    f = h5py.File(weight_file_path)\n",
    "    try:\n",
    "        if len(f.attrs.items()):\n",
    "            print(\"{} contains: \".format(weight_file_path))\n",
    "            print(\"Root attributes:\")\n",
    "        for key, value in f.attrs.items():\n",
    "            print(\"  {}: {}\".format(key, value))\n",
    "\n",
    "        if len(f.items())==0:\n",
    "            return\n",
    "\n",
    "        for layer, g in f.items():\n",
    "            print(\"  {}\".format(layer))\n",
    "            print(\"    Attributes:\")\n",
    "            for key, value in g.attrs.items():\n",
    "                print(\"      {}: {}\".format(key, value))\n",
    "\n",
    "            print(\"    Dataset:\")\n",
    "            for p_name in g.keys():\n",
    "                param = g[p_name]\n",
    "                print(\"      {}: {}\".format(p_name, param.shape))\n",
    "    finally:\n",
    "        f.close()\n",
    "\n",
    "if __name__ == '__main__':\n",
    "    weight_file_path = \"/home/mirabot/googledrive/deeplearning/seaiceprj/mpfdata/model/weights.h5\"\n",
    "    print_structure(weight_file_path)\n"
   ]
  },
  {
   "cell_type": "code",
   "execution_count": 68,
   "metadata": {
    "collapsed": false
   },
   "outputs": [],
   "source": [
    "A=np.random.rand(3,3)\n",
    "X=np.random.rand(3,1)\n",
    "Y = A.dot(X)"
   ]
  },
  {
   "cell_type": "code",
   "execution_count": 79,
   "metadata": {
    "collapsed": false
   },
   "outputs": [],
   "source": [
    "from numpy.linalg import inv\n",
    "#B = Y*X.reshape(1,3)*inv(X*X.reshape(1,3))\n"
   ]
  },
  {
   "cell_type": "code",
   "execution_count": 78,
   "metadata": {
    "collapsed": false,
    "scrolled": true
   },
   "outputs": [
    {
     "data": {
      "text/plain": [
       "1"
      ]
     },
     "execution_count": 78,
     "metadata": {},
     "output_type": "execute_result"
    }
   ],
   "source": [
    "X=np.random.rand(3,1)\n",
    "np.linalg.matrix_rank(K)"
   ]
  },
  {
   "cell_type": "code",
   "execution_count": 77,
   "metadata": {
    "collapsed": false
   },
   "outputs": [
    {
     "data": {
      "text/plain": [
       "array([[ 0.62371225,  0.46959427,  0.24663253],\n",
       "       [ 0.46959427,  0.35355853,  0.18569016],\n",
       "       [ 0.24663253,  0.18569016,  0.09752511]])"
      ]
     },
     "execution_count": 77,
     "metadata": {},
     "output_type": "execute_result"
    }
   ],
   "source": [
    "K = X*X.reshape(1,3)\n",
    "K"
   ]
  },
  {
   "cell_type": "code",
   "execution_count": null,
   "metadata": {
    "collapsed": false
   },
   "outputs": [],
   "source": []
  },
  {
   "cell_type": "code",
   "execution_count": null,
   "metadata": {
    "collapsed": true
   },
   "outputs": [],
   "source": []
  }
 ],
 "metadata": {
  "kernelspec": {
   "display_name": "Python 2",
   "language": "python",
   "name": "python2"
  },
  "language_info": {
   "codemirror_mode": {
    "name": "ipython",
    "version": 2
   },
   "file_extension": ".py",
   "mimetype": "text/x-python",
   "name": "python",
   "nbconvert_exporter": "python",
   "pygments_lexer": "ipython2",
   "version": "2.7.12"
  }
 },
 "nbformat": 4,
 "nbformat_minor": 1
}
