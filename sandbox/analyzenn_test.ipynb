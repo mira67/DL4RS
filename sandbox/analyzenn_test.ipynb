{
 "cells": [
  {
   "cell_type": "code",
   "execution_count": 12,
   "metadata": {
    "collapsed": false
   },
   "outputs": [],
   "source": [
    "import os\n",
    "import numpy as np\n",
    "from keras.models import load_model\n",
    "mpath = \"/home/mirabot/googledrive/deeplearning/seaiceprj/mpfdata/model/\"\n",
    "mname = \"igarss1110-m3.h5\"\n",
    "model = load_model(mpath+mname)"
   ]
  },
  {
   "cell_type": "code",
   "execution_count": 13,
   "metadata": {
    "collapsed": false
   },
   "outputs": [
    {
     "data": {
      "text/plain": [
       "<matplotlib.colorbar.Colorbar at 0x7f8585708290>"
      ]
     },
     "execution_count": 13,
     "metadata": {},
     "output_type": "execute_result"
    },
    {
     "data": {
      "image/png": "[encoded data removed]",
      "text/plain": [
       "<matplotlib.figure.Figure at 0x7f8585735fd0>"
      ]
     },
     "metadata": {},
     "output_type": "display_data"
    }
   ],
   "source": [
    "import matplotlib.pyplot as plt\n",
    "%matplotlib inline\n",
    "w = model.layers[0].get_weights()[0]\n",
    "w = w/np.amax(abs(w))\n",
    "w_min, w_max = -np.abs(w).max(), np.abs(w).max()\n",
    "plt.pcolor(w,cmap='RdBu',vmin=w_min, vmax=w_max)\n",
    "plt.colorbar()"
   ]
  },
  {
   "cell_type": "code",
   "execution_count": 14,
   "metadata": {
    "collapsed": false
   },
   "outputs": [
    {
     "name": "stdout",
     "output_type": "stream",
     "text": [
      "[ 225.54098511  327.75006104  234.36071777  247.39578247  182.96842957\n",
      "  256.181427    170.49467468]\n",
      "13.7132659554\n",
      "19.9277490377\n",
      "14.2495214939\n",
      "15.0420740247\n",
      "11.1247844994\n",
      "15.5762568116\n",
      "10.3663593531\n"
     ]
    }
   ],
   "source": [
    "\"\"\"calculate input relative importance\"\"\"\n",
    "w1 = model.layers[0].get_weights()[0]\n",
    "w2 = model.layers[3].get_weights()[0]\n",
    "w3 = model.layers[6].get_weights()[0]\n",
    "w4 = model.layers[9].get_weights()[0]\n",
    "\n",
    "mvp = abs(w1).dot(abs(w2)).dot(abs(w3)).dot(abs(w4))\n",
    "#print(mvp)\n",
    "mvpr = mvp.sum(axis=1)\n",
    "print(mvpr)\n",
    "\n",
    "for r in mvpr:\n",
    "    print(r/mvpr.sum()*100)"
   ]
  },
  {
   "cell_type": "code",
   "execution_count": null,
   "metadata": {
    "collapsed": false
   },
   "outputs": [],
   "source": []
  },
  {
   "cell_type": "code",
   "execution_count": 209,
   "metadata": {
    "collapsed": false
   },
   "outputs": [
    {
     "name": "stdout",
     "output_type": "stream",
     "text": [
      "/home/mirabot/googledrive/deeplearning/seaiceprj/mpfdata/model/weights.h5 contains: \n",
      "Root attributes:\n",
      "  layer_names: ['dense_21' 'activation_17' 'dropout_13' 'dense_22' 'activation_18'\n",
      " 'dropout_14' 'dense_23' 'activation_19' 'dropout_15' 'dense_24'\n",
      " 'activation_20' 'dense_25']\n",
      "  activation_17\n",
      "    Attributes:\n",
      "      weight_names: []\n",
      "    Dataset:\n",
      "  activation_18\n",
      "    Attributes:\n",
      "      weight_names: []\n",
      "    Dataset:\n",
      "  activation_19\n",
      "    Attributes:\n",
      "      weight_names: []\n",
      "    Dataset:\n",
      "  activation_20\n",
      "    Attributes:\n",
      "      weight_names: []\n",
      "    Dataset:\n",
      "  dense_21\n",
      "    Attributes:\n",
      "      weight_names: ['dense_21_W' 'dense_21_b']\n",
      "    Dataset:\n",
      "      dense_21_W: (7, 56)\n",
      "      dense_21_b: (56,)\n",
      "  dense_22\n",
      "    Attributes:\n",
      "      weight_names: ['dense_22_W' 'dense_22_b']\n",
      "    Dataset:\n",
      "      dense_22_W: (56, 28)\n",
      "      dense_22_b: (28,)\n",
      "  dense_23\n",
      "    Attributes:\n",
      "      weight_names: ['dense_23_W' 'dense_23_b']\n",
      "    Dataset:\n",
      "      dense_23_W: (28, 28)\n",
      "      dense_23_b: (28,)\n",
      "  dense_24\n",
      "    Attributes:\n",
      "      weight_names: ['dense_24_W' 'dense_24_b']\n",
      "    Dataset:\n",
      "      dense_24_W: (28, 10)\n",
      "      dense_24_b: (10,)\n",
      "  dense_25\n",
      "    Attributes:\n",
      "      weight_names: ['dense_25_W' 'dense_25_b']\n",
      "    Dataset:\n",
      "      dense_25_W: (10, 3)\n",
      "      dense_25_b: (3,)\n",
      "  dropout_13\n",
      "    Attributes:\n",
      "      weight_names: []\n",
      "    Dataset:\n",
      "  dropout_14\n",
      "    Attributes:\n",
      "      weight_names: []\n",
      "    Dataset:\n",
      "  dropout_15\n",
      "    Attributes:\n",
      "      weight_names: []\n",
      "    Dataset:\n"
     ]
    }
   ],
   "source": [
    "\"\"\"Analyze weights\n",
    "Qi Liu\n",
    "\"\"\"\n",
    "\n",
    "from __future__ import print_function\n",
    "\n",
    "import h5py\n",
    "\n",
    "def print_structure(weight_file_path):\n",
    "    \"\"\"\n",
    "    Prints out the structure of HDF5 file.\n",
    "\n",
    "    Args:\n",
    "      weight_file_path (str) : Path to the file to analyze\n",
    "    \"\"\"\n",
    "    f = h5py.File(weight_file_path)\n",
    "    try:\n",
    "        if len(f.attrs.items()):\n",
    "            print(\"{} contains: \".format(weight_file_path))\n",
    "            print(\"Root attributes:\")\n",
    "        for key, value in f.attrs.items():\n",
    "            print(\"  {}: {}\".format(key, value))\n",
    "\n",
    "        if len(f.items())==0:\n",
    "            return\n",
    "\n",
    "        for layer, g in f.items():\n",
    "            print(\"  {}\".format(layer))\n",
    "            print(\"    Attributes:\")\n",
    "            for key, value in g.attrs.items():\n",
    "                print(\"      {}: {}\".format(key, value))\n",
    "\n",
    "            print(\"    Dataset:\")\n",
    "            for p_name in g.keys():\n",
    "                param = g[p_name]\n",
    "                print(\"      {}: {}\".format(p_name, param.shape))\n",
    "    finally:\n",
    "        f.close()\n",
    "\n",
    "if __name__ == '__main__':\n",
    "    weight_file_path = \"/home/mirabot/googledrive/deeplearning/seaiceprj/mpfdata/model/weights.h5\"\n",
    "    print_structure(weight_file_path)\n"
   ]
  },
  {
   "cell_type": "code",
   "execution_count": 68,
   "metadata": {
    "collapsed": false
   },
   "outputs": [],
   "source": [
    "A=np.random.rand(3,3)\n",
    "X=np.random.rand(3,1)\n",
    "Y = A.dot(X)"
   ]
  },
  {
   "cell_type": "code",
   "execution_count": 79,
   "metadata": {
    "collapsed": false
   },
   "outputs": [],
   "source": [
    "from numpy.linalg import inv\n",
    "#B = Y*X.reshape(1,3)*inv(X*X.reshape(1,3))\n"
   ]
  },
  {
   "cell_type": "code",
   "execution_count": 78,
   "metadata": {
    "collapsed": false,
    "scrolled": true
   },
   "outputs": [
    {
     "data": {
      "text/plain": [
       "1"
      ]
     },
     "execution_count": 78,
     "metadata": {},
     "output_type": "execute_result"
    }
   ],
   "source": [
    "X=np.random.rand(3,1)\n",
    "np.linalg.matrix_rank(K)"
   ]
  },
  {
   "cell_type": "code",
   "execution_count": 77,
   "metadata": {
    "collapsed": false
   },
   "outputs": [
    {
     "data": {
      "text/plain": [
       "array([[ 0.62371225,  0.46959427,  0.24663253],\n",
       "       [ 0.46959427,  0.35355853,  0.18569016],\n",
       "       [ 0.24663253,  0.18569016,  0.09752511]])"
      ]
     },
     "execution_count": 77,
     "metadata": {},
     "output_type": "execute_result"
    }
   ],
   "source": [
    "K = X*X.reshape(1,3)\n",
    "K"
   ]
  },
  {
   "cell_type": "code",
   "execution_count": null,
   "metadata": {
    "collapsed": false
   },
   "outputs": [],
   "source": []
  },
  {
   "cell_type": "code",
   "execution_count": null,
   "metadata": {
    "collapsed": true
   },
   "outputs": [],
   "source": []
  }
 ],
 "metadata": {
  "kernelspec": {
   "display_name": "Python 2",
   "language": "python",
   "name": "python2"
  },
  "language_info": {
   "codemirror_mode": {
    "name": "ipython",
    "version": 2
   },
   "file_extension": ".py",
   "mimetype": "text/x-python",
   "name": "python",
   "nbconvert_exporter": "python",
   "pygments_lexer": "ipython2",
   "version": "2.7.12"
  }
 },
 "nbformat": 4,
 "nbformat_minor": 1
}
